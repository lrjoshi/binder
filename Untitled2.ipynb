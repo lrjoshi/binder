{
 "cells": [
  {
   "cell_type": "code",
   "execution_count": 3,
   "metadata": {},
   "outputs": [
    {
     "name": "stdout",
     "output_type": "stream",
     "text": [
      "9/23/2018 23:36:10\n"
     ]
    }
   ],
   "source": [
    "from datetime import datetime\n",
    "\n",
    "now = datetime.now()\n",
    "\n",
    "mm = str(now.month)\n",
    "\n",
    "dd = str(now.day)\n",
    "\n",
    "yyyy = str(now.year)\n",
    "\n",
    "hour = str(now.hour)\n",
    "\n",
    "mi = str(now.minute)\n",
    "\n",
    "ss = str(now.second)\n",
    "\n",
    "print (mm + \"/\" + dd + \"/\" + yyyy + \" \" + hour + \":\" + mi + \":\" + ss)"
   ]
  },
  {
   "cell_type": "code",
   "execution_count": 1,
   "metadata": {},
   "outputs": [
    {
     "name": "stdout",
     "output_type": "stream",
     "text": [
      "my name is lok\n"
     ]
    }
   ],
   "source": [
    "print (\"my name is lok\")"
   ]
  },
  {
   "cell_type": "code",
   "execution_count": 3,
   "metadata": {},
   "outputs": [
    {
     "name": "stdout",
     "output_type": "stream",
     "text": [
      "enter your namelok\n",
      "your name is lok\n"
     ]
    }
   ],
   "source": [
    "a=input (\"enter your name\")\n",
    "print (\"your name is \" + a)"
   ]
  }
 ],
 "metadata": {
  "kernelspec": {
   "display_name": "Python 3",
   "language": "python",
   "name": "python3"
  },
  "language_info": {
   "codemirror_mode": {
    "name": "ipython",
    "version": 3
   },
   "file_extension": ".py",
   "mimetype": "text/x-python",
   "name": "python",
   "nbconvert_exporter": "python",
   "pygments_lexer": "ipython3",
   "version": "3.6.5"
  }
 },
 "nbformat": 4,
 "nbformat_minor": 2
}
